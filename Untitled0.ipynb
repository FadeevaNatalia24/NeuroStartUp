{
  "nbformat": 4,
  "nbformat_minor": 0,
  "metadata": {
    "colab": {
      "provenance": [],
      "toc_visible": true,
      "authorship_tag": "ABX9TyNs195CX8DPDmdbf3dakEcm",
      "include_colab_link": true
    },
    "kernelspec": {
      "name": "python3",
      "display_name": "Python 3"
    },
    "language_info": {
      "name": "python"
    }
  },
  "cells": [
    {
      "cell_type": "markdown",
      "metadata": {
        "id": "view-in-github",
        "colab_type": "text"
      },
      "source": [
        "<a href=\"https://colab.research.google.com/github/FadeevaNatalia24/NeuroStartUp/blob/main/Untitled0.ipynb\" target=\"_parent\"><img src=\"https://colab.research.google.com/assets/colab-badge.svg\" alt=\"Open In Colab\"/></a>"
      ]
    },
    {
      "cell_type": "code",
      "execution_count": null,
      "metadata": {
        "colab": {
          "base_uri": "https://localhost:8080/"
        },
        "id": "8hFQdxwuocNF",
        "outputId": "31bd7611-e4a8-4688-89de-b98b1a38ee54"
      },
      "outputs": [
        {
          "output_type": "stream",
          "name": "stdout",
          "text": [
            "Введите первую фразу640Кб должно хватить для любых задач. Билл Гейтс (по легенде)\n",
            "Введите вторую фразуНасколько проще было бы писать программы, если бы не заказчики\n",
            "Фраза 2 длиннее фразы 1\n"
          ]
        }
      ],
      "source": [
        "phrase_1=input(\"Введите первую фразу\")\n",
        "phrase_2=input(\"Введите вторую фразу\")\n",
        "x = len(phrase_1)\n",
        "y = len(phrase_2)\n",
        "if x > y:\n",
        "    print(\"Фраза 1 длиннее фразы 2\")\n",
        "elif y > x:\n",
        "    print(\"Фраза 2 длиннее фразы 1\")\n",
        "else:\n",
        "    print(\"Фразы равной длины\")"
      ]
    },
    {
      "cell_type": "code",
      "source": [
        "import calendar\n",
        "year = int(input('Введите год: '))\n",
        "\n",
        "if calendar.isleap(year):\n",
        "    print('Год високосный.')\n",
        "else:\n",
        "    print('Обычный год.')\n"
      ],
      "metadata": {
        "colab": {
          "base_uri": "https://localhost:8080/"
        },
        "id": "clf1AYZHwh54",
        "outputId": "403156c9-a33a-4f23-ad01-6c7a7c0a9e95"
      },
      "execution_count": null,
      "outputs": [
        {
          "output_type": "stream",
          "name": "stdout",
          "text": [
            "Введите год: 2025\n",
            "Обычный год.\n"
          ]
        }
      ]
    },
    {
      "cell_type": "code",
      "source": [
        "Day=int(input(\"Введите день: \"))\n",
        "Month=input(\"Введите месяц: \")\n",
        "\n",
        "if Month == 'январь' and Day <= 19:\n",
        "    astro_sign = 'Козерог'\n",
        "else:\n",
        "    astro_sign = 'Водолей'\n",
        "\n",
        "print(astro_sign)"
      ],
      "metadata": {
        "colab": {
          "base_uri": "https://localhost:8080/",
          "height": 245
        },
        "id": "2HcSXl3tBweQ",
        "outputId": "c3a0f6f6-5b30-45f2-c015-1613169fa2fb"
      },
      "execution_count": 62,
      "outputs": [
        {
          "name": "stdout",
          "output_type": "stream",
          "text": [
            "Введите день: 123\n",
            "Введите месяц: ыфвфы\n"
          ]
        },
        {
          "output_type": "error",
          "ename": "TypeError",
          "evalue": "ignored",
          "traceback": [
            "\u001b[0;31m---------------------------------------------------------------------------\u001b[0m",
            "\u001b[0;31mTypeError\u001b[0m                                 Traceback (most recent call last)",
            "\u001b[0;32m<ipython-input-62-745a8f35c729>\u001b[0m in \u001b[0;36m<cell line: 9>\u001b[0;34m()\u001b[0m\n\u001b[1;32m      7\u001b[0m     \u001b[0mastro_sign\u001b[0m \u001b[0;34m=\u001b[0m \u001b[0;34m'Водолей'\u001b[0m\u001b[0;34m\u001b[0m\u001b[0;34m\u001b[0m\u001b[0m\n\u001b[1;32m      8\u001b[0m \u001b[0;34m\u001b[0m\u001b[0m\n\u001b[0;32m----> 9\u001b[0;31m \u001b[0mprint\u001b[0m\u001b[0;34m(\u001b[0m\u001b[0mastro_sign\u001b[0m\u001b[0;34m)\u001b[0m\u001b[0;34m\u001b[0m\u001b[0;34m\u001b[0m\u001b[0m\n\u001b[0m",
            "\u001b[0;31mTypeError\u001b[0m: 'str' object is not callable"
          ]
        }
      ]
    }
  ]
}