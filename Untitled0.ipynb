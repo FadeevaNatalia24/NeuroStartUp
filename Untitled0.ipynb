{
  "nbformat": 4,
  "nbformat_minor": 0,
  "metadata": {
    "colab": {
      "provenance": [],
      "authorship_tag": "ABX9TyPT6am/FIMPyQbn+BJxa2p8",
      "include_colab_link": true
    },
    "kernelspec": {
      "name": "python3",
      "display_name": "Python 3"
    },
    "language_info": {
      "name": "python"
    }
  },
  "cells": [
    {
      "cell_type": "markdown",
      "metadata": {
        "id": "view-in-github",
        "colab_type": "text"
      },
      "source": [
        "<a href=\"https://colab.research.google.com/github/FadeevaNatalia24/NeuroStartUp/blob/main/Untitled0.ipynb\" target=\"_parent\"><img src=\"https://colab.research.google.com/assets/colab-badge.svg\" alt=\"Open In Colab\"/></a>"
      ]
    },
    {
      "cell_type": "code",
      "execution_count": 14,
      "metadata": {
        "colab": {
          "base_uri": "https://localhost:8080/"
        },
        "id": "8hFQdxwuocNF",
        "outputId": "31bd7611-e4a8-4688-89de-b98b1a38ee54"
      },
      "outputs": [
        {
          "output_type": "stream",
          "name": "stdout",
          "text": [
            "Введите первую фразу640Кб должно хватить для любых задач. Билл Гейтс (по легенде)\n",
            "Введите вторую фразуНасколько проще было бы писать программы, если бы не заказчики\n",
            "Фраза 2 длиннее фразы 1\n"
          ]
        }
      ],
      "source": [
        "phrase_1=input(\"Введите первую фразу\")\n",
        "phrase_2=input(\"Введите вторую фразу\")\n",
        "x = len(phrase_1)\n",
        "y = len(phrase_2)\n",
        "if x > y:\n",
        "    print(\"Фраза 1 длиннее фразы 2\")\n",
        "elif y > x:\n",
        "    print(\"Фраза 2 длиннее фразы 1\")\n",
        "else:\n",
        "    print(\"Фразы равной длины\")"
      ]
    },
    {
      "cell_type": "code",
      "source": [
        "import calendar\n",
        "year = int(input('Введите год: '))\n",
        "\n",
        "if calendar.isleap(year):\n",
        "    print('Год високосный.')\n",
        "else:\n",
        "    print('Обычный год.')\n"
      ],
      "metadata": {
        "colab": {
          "base_uri": "https://localhost:8080/"
        },
        "id": "clf1AYZHwh54",
        "outputId": "403156c9-a33a-4f23-ad01-6c7a7c0a9e95"
      },
      "execution_count": 16,
      "outputs": [
        {
          "output_type": "stream",
          "name": "stdout",
          "text": [
            "Введите год: 2025\n",
            "Обычный год.\n"
          ]
        }
      ]
    },
    {
      "cell_type": "code",
      "source": [],
      "metadata": {
        "id": "S4duTsNE2ivF"
      },
      "execution_count": null,
      "outputs": []
    }
  ]
}